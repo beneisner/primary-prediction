{
 "cells": [
  {
   "cell_type": "code",
   "execution_count": 175,
   "metadata": {
    "collapsed": false
   },
   "outputs": [],
   "source": [
    "import sklearn.kernel_ridge as krr\n",
    "import sklearn.preprocessing as pre\n",
    "import pandas as pd\n",
    "import numpy as np"
   ]
  },
  {
   "cell_type": "code",
   "execution_count": 2,
   "metadata": {
    "collapsed": false
   },
   "outputs": [],
   "source": [
    "train = pd.DataFrame.from_csv('data/other/train_df.csv')\n",
    "val = pd.DataFrame.from_csv('data/other/val_df.csv')\n",
    "test = pd.DataFrame.from_csv('data/other/test_df.csv')"
   ]
  },
  {
   "cell_type": "code",
   "execution_count": 124,
   "metadata": {
    "collapsed": false
   },
   "outputs": [],
   "source": [
    "train_examples = train.ix[:,0:26]\n",
    "train_labels = train.ix[:,26]\n",
    "\n",
    "val_examples = val.ix[:,0:26]\n",
    "val_labels = val.ix[:,26]\n",
    "\n",
    "test_examples = test.ix[:,0:26]\n",
    "test_labels = test.ix[:,26]\n",
    "\n",
    "X = pre.normalize(train_examples.values)\n",
    "y = train_labels.values\n",
    "\n",
    "X_val = pre.normalize(val_examples.values)\n",
    "y_val = val_labels.values\n",
    "\n",
    "X_test = pre.normalize(test_examples.values)\n",
    "y_test = test_labels.values\n",
    "\n"
   ]
  },
  {
   "cell_type": "code",
   "execution_count": 127,
   "metadata": {
    "collapsed": false
   },
   "outputs": [
    {
     "data": {
      "text/plain": [
       "array([[  6.95467813e-05,   6.95467813e-05,   6.95467813e-05, ...,\n",
       "          5.05373277e-03,   9.59455803e-03,   1.34546942e-01],\n",
       "       [  1.38383343e-04,   1.38383343e-04,   1.38383343e-04, ...,\n",
       "          1.50491886e-03,   1.29446086e-02,   1.52146720e-01],\n",
       "       [  8.65959679e-05,   8.65959679e-05,   8.65959679e-05, ...,\n",
       "          1.93036845e-03,   1.30002197e-02,   1.42435935e-01],\n",
       "       ..., \n",
       "       [  5.05185466e-04,   5.47689051e-04,   5.07614243e-04, ...,\n",
       "          1.09537810e-03,   8.81645790e-03,   6.57226861e-02],\n",
       "       [  1.89794202e-04,   2.05762464e-04,   1.90706674e-04, ...,\n",
       "          5.57064232e-04,   1.33243742e-02,   2.48003992e-01],\n",
       "       [  2.00118306e-02,   2.16955183e-02,   2.01080413e-02, ...,\n",
       "          1.53456105e-02,   1.14298340e-01,   7.76276226e-01]])"
      ]
     },
     "execution_count": 127,
     "metadata": {},
     "output_type": "execute_result"
    }
   ],
   "source": []
  },
  {
   "cell_type": "code",
   "execution_count": 73,
   "metadata": {
    "collapsed": false
   },
   "outputs": [
    {
     "data": {
      "text/plain": [
       "array([ 0.146,  0.084,  0.122, ...,  0.653,  0.66 ,  0.506])"
      ]
     },
     "execution_count": 73,
     "metadata": {},
     "output_type": "execute_result"
    }
   ],
   "source": [
    "# Normalize\n",
    "\n",
    "\n",
    "\n",
    "\n"
   ]
  },
  {
   "cell_type": "code",
   "execution_count": 145,
   "metadata": {
    "collapsed": false
   },
   "outputs": [],
   "source": [
    "clf = krr.KernelRidge()"
   ]
  },
  {
   "cell_type": "code",
   "execution_count": 146,
   "metadata": {
    "collapsed": false
   },
   "outputs": [
    {
     "data": {
      "text/plain": [
       "KernelRidge(alpha=1, coef0=1, degree=3, gamma=None, kernel='linear',\n",
       "      kernel_params=None)"
      ]
     },
     "execution_count": 146,
     "metadata": {},
     "output_type": "execute_result"
    }
   ],
   "source": [
    "clf.fit(X, y)"
   ]
  },
  {
   "cell_type": "code",
   "execution_count": 147,
   "metadata": {
    "collapsed": false
   },
   "outputs": [
    {
     "data": {
      "text/plain": [
       "0.23400804131743755"
      ]
     },
     "execution_count": 147,
     "metadata": {},
     "output_type": "execute_result"
    }
   ],
   "source": [
    "math.sqrt(met.mean_squared_error(y, clf.predict(X)))"
   ]
  },
  {
   "cell_type": "code",
   "execution_count": 148,
   "metadata": {
    "collapsed": false
   },
   "outputs": [
    {
     "data": {
      "text/plain": [
       "0.2070386693834345"
      ]
     },
     "execution_count": 148,
     "metadata": {},
     "output_type": "execute_result"
    }
   ],
   "source": [
    "math.sqrt(met.mean_squared_error(y_val, clf.predict(X_val)))"
   ]
  },
  {
   "cell_type": "code",
   "execution_count": 149,
   "metadata": {
    "collapsed": false
   },
   "outputs": [
    {
     "data": {
      "text/plain": [
       "array([ 0.26687233,  0.26809746,  0.26691671, ...,  0.26012334,\n",
       "        0.27752264,  0.24498193])"
      ]
     },
     "execution_count": 149,
     "metadata": {},
     "output_type": "execute_result"
    }
   ],
   "source": [
    "clf.predict(X_val)"
   ]
  },
  {
   "cell_type": "code",
   "execution_count": 150,
   "metadata": {
    "collapsed": false
   },
   "outputs": [
    {
     "data": {
      "text/plain": [
       "0.26048690247546463"
      ]
     },
     "execution_count": 150,
     "metadata": {},
     "output_type": "execute_result"
    }
   ],
   "source": [
    "math.sqrt(met.mean_squared_error(y_test, clf.predict(X_test)))"
   ]
  },
  {
   "cell_type": "code",
   "execution_count": 18,
   "metadata": {
    "collapsed": false
   },
   "outputs": [
    {
     "data": {
      "text/plain": [
       "-2.8146170752585116"
      ]
     },
     "execution_count": 18,
     "metadata": {},
     "output_type": "execute_result"
    }
   ],
   "source": [
    "clf.score(val_examples.as_matrix(), val_labels.as_matrix())"
   ]
  },
  {
   "cell_type": "code",
   "execution_count": 20,
   "metadata": {
    "collapsed": false
   },
   "outputs": [],
   "source": [
    "k = clf.predict(val_examples.as_matrix())"
   ]
  },
  {
   "cell_type": "code",
   "execution_count": 23,
   "metadata": {
    "collapsed": false
   },
   "outputs": [
    {
     "data": {
      "text/plain": [
       "2.0980579865388392e-07"
      ]
     },
     "execution_count": 23,
     "metadata": {},
     "output_type": "execute_result"
    }
   ],
   "source": []
  },
  {
   "cell_type": "code",
   "execution_count": 24,
   "metadata": {
    "collapsed": true
   },
   "outputs": [],
   "source": [
    "import sklearn.metrics as met\n",
    "import math\n",
    "import sklearn.svm as svm"
   ]
  },
  {
   "cell_type": "code",
   "execution_count": 17,
   "metadata": {
    "collapsed": false
   },
   "outputs": [
    {
     "data": {
      "text/plain": [
       "0.3900308396796226"
      ]
     },
     "execution_count": 17,
     "metadata": {},
     "output_type": "execute_result"
    }
   ],
   "source": [
    "math.sqrt(met.mean_squared_error(val_labels.as_matrix(), clf.predict(val_examples.as_matrix())))"
   ]
  },
  {
   "cell_type": "code",
   "execution_count": 167,
   "metadata": {
    "collapsed": true
   },
   "outputs": [],
   "source": [
    "clf2 = svm.SVR(kernel='poly')"
   ]
  },
  {
   "cell_type": "code",
   "execution_count": 168,
   "metadata": {
    "collapsed": false
   },
   "outputs": [],
   "source": [
    "ex = clf2.fit(X, y).predict(X_val)"
   ]
  },
  {
   "cell_type": "code",
   "execution_count": 169,
   "metadata": {
    "collapsed": false
   },
   "outputs": [
    {
     "data": {
      "text/plain": [
       "0.239447126122699"
      ]
     },
     "execution_count": 169,
     "metadata": {},
     "output_type": "execute_result"
    }
   ],
   "source": [
    "math.sqrt(met.mean_squared_error(y, clf2.predict(X)))"
   ]
  },
  {
   "cell_type": "code",
   "execution_count": 170,
   "metadata": {
    "collapsed": false
   },
   "outputs": [
    {
     "data": {
      "text/plain": [
       "0.2229353363958645"
      ]
     },
     "execution_count": 170,
     "metadata": {},
     "output_type": "execute_result"
    }
   ],
   "source": [
    "math.sqrt(met.mean_squared_error(y_val, clf2.predict(X_val)))"
   ]
  },
  {
   "cell_type": "code",
   "execution_count": 171,
   "metadata": {
    "collapsed": false
   },
   "outputs": [
    {
     "data": {
      "text/plain": [
       "0.2697833225478837"
      ]
     },
     "execution_count": 171,
     "metadata": {},
     "output_type": "execute_result"
    }
   ],
   "source": [
    "math.sqrt(met.mean_squared_error(y_test, clf2.predict(X_test)))"
   ]
  },
  {
   "cell_type": "code",
   "execution_count": 43,
   "metadata": {
    "collapsed": false
   },
   "outputs": [
    {
     "data": {
      "text/plain": [
       "0.20725703898361297"
      ]
     },
     "execution_count": 43,
     "metadata": {},
     "output_type": "execute_result"
    }
   ],
   "source": [
    "math.sqrt(met.mean_squared_error(val_labels.as_matrix(), clf2.predict(val_examples.as_matrix())))"
   ]
  },
  {
   "cell_type": "code",
   "execution_count": 51,
   "metadata": {
    "collapsed": false
   },
   "outputs": [
    {
     "data": {
      "text/plain": [
       "0.2478506070670278"
      ]
     },
     "execution_count": 51,
     "metadata": {},
     "output_type": "execute_result"
    }
   ],
   "source": [
    "math.sqrt(met.mean_squared_error(test_labels.as_matrix(), clf2.predict(test_examples.as_matrix())))"
   ]
  },
  {
   "cell_type": "code",
   "execution_count": 52,
   "metadata": {
    "collapsed": false
   },
   "outputs": [
    {
     "data": {
      "text/plain": [
       "array([ 0.27956674,  0.27956674,  0.27956674, ...,  0.27956674,\n",
       "        0.27956674,  0.27956674])"
      ]
     },
     "execution_count": 52,
     "metadata": {},
     "output_type": "execute_result"
    }
   ],
   "source": [
    "clf2.predict(test_examples.as_matrix())"
   ]
  },
  {
   "cell_type": "code",
   "execution_count": 54,
   "metadata": {
    "collapsed": false
   },
   "outputs": [
    {
     "data": {
      "text/plain": [
       "array([[  2.40000000e+01,   2.40000000e+01,   2.40000000e+01, ...,\n",
       "          1.74400000e+03,   3.31100000e+03,   4.64310000e+04],\n",
       "       [  2.40000000e+01,   2.40000000e+01,   2.40000000e+01, ...,\n",
       "          2.61000000e+02,   2.24500000e+03,   2.63870000e+04],\n",
       "       [  2.40000000e+01,   2.40000000e+01,   2.40000000e+01, ...,\n",
       "          5.35000000e+02,   3.60300000e+03,   3.94760000e+04],\n",
       "       ..., \n",
       "       [  3.78181818e+01,   4.10000000e+01,   3.80000000e+01, ...,\n",
       "          8.20000000e+01,   6.60000000e+02,   4.92000000e+03],\n",
       "       [  3.78181818e+01,   4.10000000e+01,   3.80000000e+01, ...,\n",
       "          1.11000000e+02,   2.65500000e+03,   4.94170000e+04],\n",
       "       [  3.78181818e+01,   4.10000000e+01,   3.80000000e+01, ...,\n",
       "          2.90000000e+01,   2.16000000e+02,   1.46700000e+03]])"
      ]
     },
     "execution_count": 54,
     "metadata": {},
     "output_type": "execute_result"
    }
   ],
   "source": [
    "val_examples.as_matrix()"
   ]
  },
  {
   "cell_type": "code",
   "execution_count": 58,
   "metadata": {
    "collapsed": true
   },
   "outputs": [],
   "source": [
    "import sklearn.model_selection as gs\n",
    "import scipy.stats"
   ]
  },
  {
   "cell_type": "code",
   "execution_count": 59,
   "metadata": {
    "collapsed": true
   },
   "outputs": [],
   "source": [
    "p_dict = {'C': scipy.stats.expon(scale=10000), 'gamma': scipy.stats.expon(scale=.1),\n",
    "  'kernel': ['rbf'], 'epsilon': scipy.stats.expon(scale=0.001)}"
   ]
  },
  {
   "cell_type": "code",
   "execution_count": 65,
   "metadata": {
    "collapsed": false
   },
   "outputs": [],
   "source": [
    "searcher = gs.RandomizedSearchCV(svm.SVR(), param_distributions=p_dict, n_iter=1)"
   ]
  },
  {
   "cell_type": "code",
   "execution_count": 66,
   "metadata": {
    "collapsed": false
   },
   "outputs": [
    {
     "data": {
      "text/plain": [
       "RandomizedSearchCV(cv=None, error_score='raise',\n",
       "          estimator=SVR(C=1.0, cache_size=200, coef0=0.0, degree=3, epsilon=0.1, gamma='auto',\n",
       "  kernel='rbf', max_iter=-1, shrinking=True, tol=0.001, verbose=False),\n",
       "          fit_params={}, iid=True, n_iter=1, n_jobs=1,\n",
       "          param_distributions={'C': <scipy.stats._distn_infrastructure.rv_frozen object at 0x106c22908>, 'gamma': <scipy.stats._distn_infrastructure.rv_frozen object at 0x106c22cc0>, 'kernel': ['rbf'], 'epsilon': <scipy.stats._distn_infrastructure.rv_frozen object at 0x106c30f28>},\n",
       "          pre_dispatch='2*n_jobs', random_state=None, refit=True,\n",
       "          return_train_score=True, scoring=None, verbose=0)"
      ]
     },
     "execution_count": 66,
     "metadata": {},
     "output_type": "execute_result"
    }
   ],
   "source": [
    "searcher.fit(train_examples.as_matrix(), train_labels.as_matrix())"
   ]
  },
  {
   "cell_type": "code",
   "execution_count": 69,
   "metadata": {
    "collapsed": false
   },
   "outputs": [
    {
     "data": {
      "text/plain": [
       "array([ 0.27983551,  0.27983551,  0.27983551, ...,  0.27983551,\n",
       "        0.27983551,  0.27983551])"
      ]
     },
     "execution_count": 69,
     "metadata": {},
     "output_type": "execute_result"
    }
   ],
   "source": [
    "searcher.predict(val_examples.as_matrix())"
   ]
  },
  {
   "cell_type": "code",
   "execution_count": 185,
   "metadata": {
    "collapsed": false
   },
   "outputs": [],
   "source": [
    "kr = gs.GridSearchCV(krr.KernelRidge(kernel='rbf', gamma=0.1), cv=5,\n",
    "                  param_grid={\"alpha\": [1e0, 0.1, 1e-2],\n",
    "                              \"gamma\": np.logspace(1, 5, 5)}, verbose=10)\n",
    "\n",
    "\n"
   ]
  },
  {
   "cell_type": "code",
   "execution_count": 186,
   "metadata": {
    "collapsed": false,
    "scrolled": true
   },
   "outputs": [
    {
     "name": "stdout",
     "output_type": "stream",
     "text": [
      "Fitting 5 folds for each of 15 candidates, totalling 75 fits\n",
      "[CV] alpha=1.0, gamma=10.0 ...........................................\n",
      "[CV] ............ alpha=1.0, gamma=10.0, score=0.118352, total=  12.3s\n",
      "[CV] alpha=1.0, gamma=10.0 ...........................................\n"
     ]
    },
    {
     "name": "stderr",
     "output_type": "stream",
     "text": [
      "[Parallel(n_jobs=1)]: Done   1 out of   1 | elapsed:   16.1s remaining:    0.0s\n"
     ]
    },
    {
     "name": "stdout",
     "output_type": "stream",
     "text": [
      "[CV] ........... alpha=1.0, gamma=10.0, score=-0.064461, total=  13.8s\n",
      "[CV] alpha=1.0, gamma=10.0 ...........................................\n"
     ]
    },
    {
     "name": "stderr",
     "output_type": "stream",
     "text": [
      "[Parallel(n_jobs=1)]: Done   2 out of   2 | elapsed:   34.4s remaining:    0.0s\n"
     ]
    },
    {
     "name": "stdout",
     "output_type": "stream",
     "text": [
      "[CV] ............ alpha=1.0, gamma=10.0, score=0.069878, total=  15.0s\n",
      "[CV] alpha=1.0, gamma=10.0 ...........................................\n"
     ]
    },
    {
     "name": "stderr",
     "output_type": "stream",
     "text": [
      "[Parallel(n_jobs=1)]: Done   3 out of   3 | elapsed:   53.5s remaining:    0.0s\n"
     ]
    },
    {
     "name": "stdout",
     "output_type": "stream",
     "text": [
      "[CV] ............ alpha=1.0, gamma=10.0, score=0.084519, total=  13.6s\n",
      "[CV] alpha=1.0, gamma=10.0 ...........................................\n"
     ]
    },
    {
     "name": "stderr",
     "output_type": "stream",
     "text": [
      "[Parallel(n_jobs=1)]: Done   4 out of   4 | elapsed:  1.2min remaining:    0.0s\n"
     ]
    },
    {
     "name": "stdout",
     "output_type": "stream",
     "text": [
      "[CV] ............ alpha=1.0, gamma=10.0, score=0.062493, total=  13.0s\n",
      "[CV] alpha=1.0, gamma=100.0 ..........................................\n"
     ]
    },
    {
     "name": "stderr",
     "output_type": "stream",
     "text": [
      "[Parallel(n_jobs=1)]: Done   5 out of   5 | elapsed:  1.5min remaining:    0.0s\n"
     ]
    },
    {
     "name": "stdout",
     "output_type": "stream",
     "text": [
      "[CV] ........... alpha=1.0, gamma=100.0, score=0.150999, total=  12.6s\n",
      "[CV] alpha=1.0, gamma=100.0 ..........................................\n"
     ]
    },
    {
     "name": "stderr",
     "output_type": "stream",
     "text": [
      "[Parallel(n_jobs=1)]: Done   6 out of   6 | elapsed:  1.7min remaining:    0.0s\n"
     ]
    },
    {
     "name": "stdout",
     "output_type": "stream",
     "text": [
      "[CV] .......... alpha=1.0, gamma=100.0, score=-0.088722, total=  12.8s\n",
      "[CV] alpha=1.0, gamma=100.0 ..........................................\n"
     ]
    },
    {
     "name": "stderr",
     "output_type": "stream",
     "text": [
      "[Parallel(n_jobs=1)]: Done   7 out of   7 | elapsed:  2.0min remaining:    0.0s\n"
     ]
    },
    {
     "name": "stdout",
     "output_type": "stream",
     "text": [
      "[CV] ........... alpha=1.0, gamma=100.0, score=0.060110, total=  12.7s\n",
      "[CV] alpha=1.0, gamma=100.0 ..........................................\n"
     ]
    },
    {
     "name": "stderr",
     "output_type": "stream",
     "text": [
      "[Parallel(n_jobs=1)]: Done   8 out of   8 | elapsed:  2.3min remaining:    0.0s\n"
     ]
    },
    {
     "name": "stdout",
     "output_type": "stream",
     "text": [
      "[CV] ........... alpha=1.0, gamma=100.0, score=0.127000, total=  12.4s\n",
      "[CV] alpha=1.0, gamma=100.0 ..........................................\n"
     ]
    },
    {
     "name": "stderr",
     "output_type": "stream",
     "text": [
      "[Parallel(n_jobs=1)]: Done   9 out of   9 | elapsed:  2.6min remaining:    0.0s\n"
     ]
    },
    {
     "name": "stdout",
     "output_type": "stream",
     "text": [
      "[CV] ........... alpha=1.0, gamma=100.0, score=0.081555, total=  12.4s\n",
      "[CV] alpha=1.0, gamma=1000.0 .........................................\n",
      "[CV] .......... alpha=1.0, gamma=1000.0, score=0.064873, total=  17.2s\n",
      "[CV] alpha=1.0, gamma=1000.0 .........................................\n",
      "[CV] ......... alpha=1.0, gamma=1000.0, score=-0.144168, total=  14.4s\n",
      "[CV] alpha=1.0, gamma=1000.0 .........................................\n",
      "[CV] ......... alpha=1.0, gamma=1000.0, score=-0.114146, total=  14.3s\n",
      "[CV] alpha=1.0, gamma=1000.0 .........................................\n",
      "[CV] .......... alpha=1.0, gamma=1000.0, score=0.026417, total=  13.7s\n",
      "[CV] alpha=1.0, gamma=1000.0 .........................................\n",
      "[CV] .......... alpha=1.0, gamma=1000.0, score=0.025133, total=  15.0s\n",
      "[CV] alpha=1.0, gamma=10000.0 ........................................\n",
      "[CV] ........ alpha=1.0, gamma=10000.0, score=-0.195577, total=  26.3s\n",
      "[CV] alpha=1.0, gamma=10000.0 ........................................\n",
      "[CV] ........ alpha=1.0, gamma=10000.0, score=-0.312111, total=  29.2s\n",
      "[CV] alpha=1.0, gamma=10000.0 ........................................\n",
      "[CV] ........ alpha=1.0, gamma=10000.0, score=-0.512290, total=  22.5s\n",
      "[CV] alpha=1.0, gamma=10000.0 ........................................\n",
      "[CV] ........ alpha=1.0, gamma=10000.0, score=-0.270818, total=  24.2s\n",
      "[CV] alpha=1.0, gamma=10000.0 ........................................\n",
      "[CV] ........ alpha=1.0, gamma=10000.0, score=-0.252810, total=  23.3s\n",
      "[CV] alpha=1.0, gamma=100000.0 .......................................\n",
      "[CV] ....... alpha=1.0, gamma=100000.0, score=-0.769446, total=  30.5s\n",
      "[CV] alpha=1.0, gamma=100000.0 .......................................\n",
      "[CV] ....... alpha=1.0, gamma=100000.0, score=-0.630932, total=  28.6s\n",
      "[CV] alpha=1.0, gamma=100000.0 .......................................\n",
      "[CV] ....... alpha=1.0, gamma=100000.0, score=-1.083636, total=  31.0s\n",
      "[CV] alpha=1.0, gamma=100000.0 .......................................\n",
      "[CV] ....... alpha=1.0, gamma=100000.0, score=-0.879237, total=  30.1s\n",
      "[CV] alpha=1.0, gamma=100000.0 .......................................\n",
      "[CV] ....... alpha=1.0, gamma=100000.0, score=-0.691568, total=  29.7s\n",
      "[CV] alpha=0.1, gamma=10.0 ...........................................\n",
      "[CV] ............ alpha=0.1, gamma=10.0, score=0.193897, total=  12.8s\n",
      "[CV] alpha=0.1, gamma=10.0 ...........................................\n",
      "[CV] ........... alpha=0.1, gamma=10.0, score=-0.081386, total=  13.9s\n",
      "[CV] alpha=0.1, gamma=10.0 ...........................................\n",
      "[CV] ............ alpha=0.1, gamma=10.0, score=0.097401, total=  13.5s\n",
      "[CV] alpha=0.1, gamma=10.0 ...........................................\n",
      "[CV] ............ alpha=0.1, gamma=10.0, score=0.121057, total=  13.2s\n",
      "[CV] alpha=0.1, gamma=10.0 ...........................................\n",
      "[CV] ............ alpha=0.1, gamma=10.0, score=0.106056, total=  12.4s\n",
      "[CV] alpha=0.1, gamma=100.0 ..........................................\n",
      "[CV] ........... alpha=0.1, gamma=100.0, score=0.243052, total=  12.9s\n",
      "[CV] alpha=0.1, gamma=100.0 ..........................................\n",
      "[CV] .......... alpha=0.1, gamma=100.0, score=-0.079294, total=  12.5s\n",
      "[CV] alpha=0.1, gamma=100.0 ..........................................\n",
      "[CV] ........... alpha=0.1, gamma=100.0, score=0.045935, total=  12.4s\n",
      "[CV] alpha=0.1, gamma=100.0 ..........................................\n",
      "[CV] ........... alpha=0.1, gamma=100.0, score=0.187193, total=  12.6s\n",
      "[CV] alpha=0.1, gamma=100.0 ..........................................\n",
      "[CV] ........... alpha=0.1, gamma=100.0, score=0.148834, total=  12.9s\n",
      "[CV] alpha=0.1, gamma=1000.0 .........................................\n",
      "[CV] .......... alpha=0.1, gamma=1000.0, score=0.158021, total=  17.8s\n",
      "[CV] alpha=0.1, gamma=1000.0 .........................................\n",
      "[CV] ......... alpha=0.1, gamma=1000.0, score=-0.134451, total=  14.0s\n",
      "[CV] alpha=0.1, gamma=1000.0 .........................................\n",
      "[CV] ......... alpha=0.1, gamma=1000.0, score=-0.101672, total=  13.9s\n",
      "[CV] alpha=0.1, gamma=1000.0 .........................................\n",
      "[CV] .......... alpha=0.1, gamma=1000.0, score=0.096558, total=  13.3s\n",
      "[CV] alpha=0.1, gamma=1000.0 .........................................\n",
      "[CV] .......... alpha=0.1, gamma=1000.0, score=0.099233, total=  13.6s\n",
      "[CV] alpha=0.1, gamma=10000.0 ........................................\n",
      "[CV] ........ alpha=0.1, gamma=10000.0, score=-0.129101, total=  23.9s\n",
      "[CV] alpha=0.1, gamma=10000.0 ........................................\n",
      "[CV] ........ alpha=0.1, gamma=10000.0, score=-0.321992, total=  27.2s\n",
      "[CV] alpha=0.1, gamma=10000.0 ........................................\n",
      "[CV] ........ alpha=0.1, gamma=10000.0, score=-0.570719, total=  20.6s\n",
      "[CV] alpha=0.1, gamma=10000.0 ........................................\n",
      "[CV] ........ alpha=0.1, gamma=10000.0, score=-0.284257, total=  23.4s\n",
      "[CV] alpha=0.1, gamma=10000.0 ........................................\n",
      "[CV] ........ alpha=0.1, gamma=10000.0, score=-0.231309, total=  21.8s\n",
      "[CV] alpha=0.1, gamma=100000.0 .......................................\n",
      "[CV] ....... alpha=0.1, gamma=100000.0, score=-0.742079, total=  29.7s\n",
      "[CV] alpha=0.1, gamma=100000.0 .......................................\n",
      "[CV] ....... alpha=0.1, gamma=100000.0, score=-0.615172, total=  29.2s\n",
      "[CV] alpha=0.1, gamma=100000.0 .......................................\n",
      "[CV] ....... alpha=0.1, gamma=100000.0, score=-1.201545, total=  29.2s\n",
      "[CV] alpha=0.1, gamma=100000.0 .......................................\n",
      "[CV] ....... alpha=0.1, gamma=100000.0, score=-0.881265, total=  30.3s\n",
      "[CV] alpha=0.1, gamma=100000.0 .......................................\n",
      "[CV] ....... alpha=0.1, gamma=100000.0, score=-0.705271, total=  30.9s\n",
      "[CV] alpha=0.01, gamma=10.0 ..........................................\n",
      "[CV] ........... alpha=0.01, gamma=10.0, score=0.268008, total=  13.2s\n",
      "[CV] alpha=0.01, gamma=10.0 ..........................................\n",
      "[CV] .......... alpha=0.01, gamma=10.0, score=-0.068484, total=  12.7s\n",
      "[CV] alpha=0.01, gamma=10.0 ..........................................\n",
      "[CV] ........... alpha=0.01, gamma=10.0, score=0.114186, total=  12.5s\n",
      "[CV] alpha=0.01, gamma=10.0 ..........................................\n",
      "[CV] ........... alpha=0.01, gamma=10.0, score=0.151439, total=  12.6s\n",
      "[CV] alpha=0.01, gamma=10.0 ..........................................\n",
      "[CV] ........... alpha=0.01, gamma=10.0, score=0.149585, total=  13.4s\n",
      "[CV] alpha=0.01, gamma=100.0 .........................................\n",
      "[CV] .......... alpha=0.01, gamma=100.0, score=0.309940, total=  14.1s\n",
      "[CV] alpha=0.01, gamma=100.0 .........................................\n",
      "[CV] ......... alpha=0.01, gamma=100.0, score=-0.055163, total=  13.7s\n",
      "[CV] alpha=0.01, gamma=100.0 .........................................\n",
      "[CV] ......... alpha=0.01, gamma=100.0, score=-0.052814, total=  13.5s\n",
      "[CV] alpha=0.01, gamma=100.0 .........................................\n",
      "[CV] .......... alpha=0.01, gamma=100.0, score=0.195665, total=  12.7s\n",
      "[CV] alpha=0.01, gamma=100.0 .........................................\n",
      "[CV] .......... alpha=0.01, gamma=100.0, score=0.195429, total=  12.8s\n",
      "[CV] alpha=0.01, gamma=1000.0 ........................................\n",
      "[CV] ......... alpha=0.01, gamma=1000.0, score=0.173506, total=  17.1s\n",
      "[CV] alpha=0.01, gamma=1000.0 ........................................\n",
      "[CV] ........ alpha=0.01, gamma=1000.0, score=-0.135254, total=  13.7s\n",
      "[CV] alpha=0.01, gamma=1000.0 ........................................\n",
      "[CV] ........ alpha=0.01, gamma=1000.0, score=-0.181153, total=  13.4s\n",
      "[CV] alpha=0.01, gamma=1000.0 ........................................\n",
      "[CV] ......... alpha=0.01, gamma=1000.0, score=0.134063, total=  13.0s\n",
      "[CV] alpha=0.01, gamma=1000.0 ........................................\n",
      "[CV] ......... alpha=0.01, gamma=1000.0, score=0.093165, total=  13.2s\n",
      "[CV] alpha=0.01, gamma=10000.0 .......................................\n",
      "[CV] ....... alpha=0.01, gamma=10000.0, score=-0.174982, total=  23.2s\n",
      "[CV] alpha=0.01, gamma=10000.0 .......................................\n",
      "[CV] ....... alpha=0.01, gamma=10000.0, score=-0.388614, total=  27.2s\n",
      "[CV] alpha=0.01, gamma=10000.0 .......................................\n",
      "[CV] ....... alpha=0.01, gamma=10000.0, score=-0.847071, total=  20.4s\n",
      "[CV] alpha=0.01, gamma=10000.0 .......................................\n",
      "[CV] ....... alpha=0.01, gamma=10000.0, score=-0.427115, total=  22.3s\n",
      "[CV] alpha=0.01, gamma=10000.0 .......................................\n",
      "[CV] ....... alpha=0.01, gamma=10000.0, score=-0.339265, total=  22.9s\n",
      "[CV] alpha=0.01, gamma=100000.0 ......................................\n",
      "[CV] ...... alpha=0.01, gamma=100000.0, score=-0.891558, total=  29.6s\n",
      "[CV] alpha=0.01, gamma=100000.0 ......................................\n",
      "[CV] ...... alpha=0.01, gamma=100000.0, score=-0.699446, total=  30.7s\n",
      "[CV] alpha=0.01, gamma=100000.0 ......................................\n",
      "[CV] ...... alpha=0.01, gamma=100000.0, score=-1.635284, total=  32.6s\n",
      "[CV] alpha=0.01, gamma=100000.0 ......................................\n",
      "[CV] ...... alpha=0.01, gamma=100000.0, score=-1.143411, total=  29.9s\n",
      "[CV] alpha=0.01, gamma=100000.0 ......................................\n",
      "[CV] ...... alpha=0.01, gamma=100000.0, score=-0.940020, total=  29.9s\n"
     ]
    },
    {
     "name": "stderr",
     "output_type": "stream",
     "text": [
      "[Parallel(n_jobs=1)]: Done  75 out of  75 | elapsed: 28.5min finished\n"
     ]
    },
    {
     "data": {
      "text/plain": [
       "GridSearchCV(cv=5, error_score='raise',\n",
       "       estimator=KernelRidge(alpha=1, coef0=1, degree=3, gamma=0.1, kernel='rbf',\n",
       "      kernel_params=None),\n",
       "       fit_params={}, iid=True, n_jobs=1,\n",
       "       param_grid={'alpha': [1.0, 0.1, 0.01], 'gamma': array([  1.00000e+01,   1.00000e+02,   1.00000e+03,   1.00000e+04,\n",
       "         1.00000e+05])},\n",
       "       pre_dispatch='2*n_jobs', refit=True, return_train_score=True,\n",
       "       scoring=None, verbose=10)"
      ]
     },
     "execution_count": 186,
     "metadata": {},
     "output_type": "execute_result"
    }
   ],
   "source": [
    "kr.fit(X, y)"
   ]
  },
  {
   "cell_type": "code",
   "execution_count": 187,
   "metadata": {
    "collapsed": false
   },
   "outputs": [
    {
     "data": {
      "text/plain": [
       "{'alpha': 0.01, 'gamma': 10.0}"
      ]
     },
     "execution_count": 187,
     "metadata": {},
     "output_type": "execute_result"
    }
   ],
   "source": [
    "kr.best_params_"
   ]
  },
  {
   "cell_type": "code",
   "execution_count": 188,
   "metadata": {
    "collapsed": false
   },
   "outputs": [
    {
     "data": {
      "text/plain": [
       "0.20863364613006544"
      ]
     },
     "execution_count": 188,
     "metadata": {},
     "output_type": "execute_result"
    }
   ],
   "source": [
    "math.sqrt(met.mean_squared_error(y, kr.predict(X)))"
   ]
  },
  {
   "cell_type": "code",
   "execution_count": 189,
   "metadata": {
    "collapsed": false
   },
   "outputs": [
    {
     "data": {
      "text/plain": [
       "0.1834304519023655"
      ]
     },
     "execution_count": 189,
     "metadata": {},
     "output_type": "execute_result"
    }
   ],
   "source": [
    "math.sqrt(met.mean_squared_error(y_val, kr.predict(X_val)))"
   ]
  },
  {
   "cell_type": "code",
   "execution_count": 190,
   "metadata": {
    "collapsed": false
   },
   "outputs": [
    {
     "data": {
      "text/plain": [
       "0.2689755096776497"
      ]
     },
     "execution_count": 190,
     "metadata": {},
     "output_type": "execute_result"
    }
   ],
   "source": [
    "math.sqrt(met.mean_squared_error(y_test, kr.predict(X_test)))"
   ]
  },
  {
   "cell_type": "code",
   "execution_count": 191,
   "metadata": {
    "collapsed": false
   },
   "outputs": [
    {
     "data": {
      "text/plain": [
       "{'alpha': 0.01, 'gamma': 10.0}"
      ]
     },
     "execution_count": 191,
     "metadata": {},
     "output_type": "execute_result"
    }
   ],
   "source": [
    "kr.best_params_"
   ]
  },
  {
   "cell_type": "code",
   "execution_count": 194,
   "metadata": {
    "collapsed": true
   },
   "outputs": [],
   "source": [
    "svr = gs.GridSearchCV(svm.SVR(kernel='rbf', gamma=0.1), cv=5,\n",
    "                   param_grid={\"C\": [1e0, 1e1, 1e2, 1e3],\n",
    "                               \"gamma\": np.logspace(-2, 2, 5)}, verbose=10)"
   ]
  },
  {
   "cell_type": "code",
   "execution_count": null,
   "metadata": {
    "collapsed": false
   },
   "outputs": [
    {
     "name": "stdout",
     "output_type": "stream",
     "text": [
      "Fitting 5 folds for each of 20 candidates, totalling 100 fits\n",
      "[CV] C=1.0, gamma=0.01 ...............................................\n",
      "[CV] ................ C=1.0, gamma=0.01, score=0.008107, total=   6.3s\n",
      "[CV] C=1.0, gamma=0.01 ...............................................\n"
     ]
    },
    {
     "name": "stderr",
     "output_type": "stream",
     "text": [
      "[Parallel(n_jobs=1)]: Done   1 out of   1 | elapsed:    9.9s remaining:    0.0s\n"
     ]
    },
    {
     "name": "stdout",
     "output_type": "stream",
     "text": [
      "[CV] ............... C=1.0, gamma=0.01, score=-0.060541, total=   5.9s\n",
      "[CV] C=1.0, gamma=0.01 ...............................................\n"
     ]
    },
    {
     "name": "stderr",
     "output_type": "stream",
     "text": [
      "[Parallel(n_jobs=1)]: Done   2 out of   2 | elapsed:   19.4s remaining:    0.0s\n"
     ]
    },
    {
     "name": "stdout",
     "output_type": "stream",
     "text": [
      "[CV] ............... C=1.0, gamma=0.01, score=-0.063337, total=   6.1s\n",
      "[CV] C=1.0, gamma=0.01 ...............................................\n"
     ]
    },
    {
     "name": "stderr",
     "output_type": "stream",
     "text": [
      "[Parallel(n_jobs=1)]: Done   3 out of   3 | elapsed:   29.2s remaining:    0.0s\n"
     ]
    }
   ],
   "source": [
    "svr.fit(X, y)"
   ]
  },
  {
   "cell_type": "code",
   "execution_count": null,
   "metadata": {
    "collapsed": true
   },
   "outputs": [],
   "source": []
  }
 ],
 "metadata": {
  "kernelspec": {
   "display_name": "Python 3",
   "language": "python",
   "name": "python3"
  },
  "language_info": {
   "codemirror_mode": {
    "name": "ipython",
    "version": 3
   },
   "file_extension": ".py",
   "mimetype": "text/x-python",
   "name": "python",
   "nbconvert_exporter": "python",
   "pygments_lexer": "ipython3",
   "version": "3.6.0"
  }
 },
 "nbformat": 4,
 "nbformat_minor": 0
}
