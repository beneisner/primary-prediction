{
 "cells": [
  {
   "cell_type": "code",
   "execution_count": 3,
   "metadata": {
    "collapsed": false
   },
   "outputs": [],
   "source": [
    "import pandas as pd"
   ]
  },
  {
   "cell_type": "code",
   "execution_count": 98,
   "metadata": {
    "collapsed": false
   },
   "outputs": [],
   "source": []
  },
  {
   "cell_type": "code",
   "execution_count": 52,
   "metadata": {
    "collapsed": false
   },
   "outputs": [],
   "source": [
    "inp_df = pd.DataFrame.from_csv('data/poll/raw_polls_cut.csv')"
   ]
  },
  {
   "cell_type": "code",
   "execution_count": 62,
   "metadata": {
    "collapsed": true
   },
   "outputs": [],
   "source": [
    "states = {\n",
    "        'AK': 'Alaska',\n",
    "        'AL': 'Alabama',\n",
    "        'AR': 'Arkansas',\n",
    "        'AZ': 'Arizona',\n",
    "        'CA': 'California',\n",
    "        'CO': 'Colorado',\n",
    "        'CT': 'Connecticut',\n",
    "        'DC': 'District of Columbia',\n",
    "        'DE': 'Delaware',\n",
    "        'FL': 'Florida',\n",
    "        'GA': 'Georgia',\n",
    "        'HI': 'Hawaii',\n",
    "        'IA': 'Iowa',\n",
    "        'ID': 'Idaho',\n",
    "        'IL': 'Illinois',\n",
    "        'IN': 'Indiana',\n",
    "        'KS': 'Kansas',\n",
    "        'KY': 'Kentucky',\n",
    "        'LA': 'Louisiana',\n",
    "        'MA': 'Massachusetts',\n",
    "        'MD': 'Maryland',\n",
    "        'ME': 'Maine',\n",
    "        'MI': 'Michigan',\n",
    "        'MN': 'Minnesota',\n",
    "        'MO': 'Missouri',\n",
    "        'MS': 'Mississippi',\n",
    "        'MT': 'Montana',\n",
    "        'NC': 'North Carolina',\n",
    "        'ND': 'North Dakota',\n",
    "        'NE': 'Nebraska',\n",
    "        'NH': 'New Hampshire',\n",
    "        'NJ': 'New Jersey',\n",
    "        'NM': 'New Mexico',\n",
    "        'NV': 'Nevada',\n",
    "        'NY': 'New York',\n",
    "        'OH': 'Ohio',\n",
    "        'OK': 'Oklahoma',\n",
    "        'OR': 'Oregon',\n",
    "        'PA': 'Pennsylvania',\n",
    "        'RI': 'Rhode Island',\n",
    "        'SC': 'South Carolina',\n",
    "        'SD': 'South Dakota',\n",
    "        'TN': 'Tennessee',\n",
    "        'TX': 'Texas',\n",
    "        'UT': 'Utah',\n",
    "        'VA': 'Virginia',\n",
    "        'VT': 'Vermont',\n",
    "        'WA': 'Washington',\n",
    "        'WI': 'Wisconsin',\n",
    "        'WV': 'West Virginia',\n",
    "        'WY': 'Wyoming'\n",
    "}"
   ]
  },
  {
   "cell_type": "code",
   "execution_count": 63,
   "metadata": {
    "collapsed": false
   },
   "outputs": [],
   "source": [
    "newd = inp_df[:][(inp_df['location'] == \"IA\") & (inp_df['cand1_name'] == \"Clinton\")]"
   ]
  },
  {
   "cell_type": "code",
   "execution_count": 64,
   "metadata": {
    "collapsed": false
   },
   "outputs": [
    {
     "data": {
      "text/plain": [
       "46.0"
      ]
     },
     "execution_count": 64,
     "metadata": {},
     "output_type": "execute_result"
    }
   ],
   "source": [
    "newd.cand1_pct.quantile(.25)"
   ]
  },
  {
   "cell_type": "code",
   "execution_count": 65,
   "metadata": {
    "collapsed": true
   },
   "outputs": [],
   "source": [
    "parties = {\n",
    "    'Clinton': 'Democrat',\n",
    "    'Sanders': 'Democrat',\n",
    "    'Rubio': 'Republican',\n",
    "    'Cruz': 'Republican',\n",
    "    'Trump': 'Republican',\n",
    "}"
   ]
  },
  {
   "cell_type": "code",
   "execution_count": 86,
   "metadata": {
    "collapsed": false
   },
   "outputs": [],
   "source": [
    "res_df = pd.DataFrame(columns=['State','Party','Candidate','min','25th','median', '75th', 'max','mean', 'avg_size'])\n",
    "i = 0\n",
    "for state in states.keys():\n",
    "    for cand in ['Clinton', 'Sanders', 'Rubio', 'Cruz', 'Trump']:\n",
    "        c1_newd = inp_df[:][(inp_df['location'] == state) & (inp_df['cand1_name'] == cand)]\n",
    "        c2_newd = inp_df[:][(inp_df['location'] == state) & (inp_df['cand2_name'] == cand)]\n",
    "        \n",
    "        res_df.set_value(i, 'State', states[state])\n",
    "        res_df.set_value(i, 'Party', parties[cand])\n",
    "        res_df.set_value(i, 'Candidate', cand)\n",
    "        \n",
    "        if len(c1_newd.index) > 0:\n",
    "            res_df.set_value(i, 'min', c1_newd.cand1_pct.min())\n",
    "            res_df.set_value(i, '25th', c1_newd.cand1_pct.quantile(0.25))\n",
    "            res_df.set_value(i, 'median', c1_newd.cand1_pct.quantile(0.5))\n",
    "            res_df.set_value(i, '75th', c1_newd.cand1_pct.quantile(0.75))\n",
    "            res_df.set_value(i, 'max', c1_newd.cand1_pct.max())\n",
    "            res_df.set_value(i, 'mean', c1_newd.cand1_pct.mean())\n",
    "            res_df.set_value(i, 'avg_size', c1_newd.samplesize.mean())\n",
    "        elif len(c2_newd.index) > 0:\n",
    "            res_df.set_value(i, 'min', c2_newd.cand2_pct.min())\n",
    "            res_df.set_value(i, '25th', c2_newd.cand2_pct.quantile(0.25))\n",
    "            res_df.set_value(i, 'median', c2_newd.cand2_pct.quantile(0.5))\n",
    "            res_df.set_value(i, '75th', c2_newd.cand2_pct.quantile(0.75))\n",
    "            res_df.set_value(i, 'max', c2_newd.cand2_pct.max())\n",
    "            res_df.set_value(i, 'mean', c2_newd.cand2_pct.mean())\n",
    "            res_df.set_value(i, 'avg_size', c2_newd.samplesize.mean())\n",
    "        else:\n",
    "            res_df.set_value(i, 'min', 0)\n",
    "            res_df.set_value(i, '25th', 0)\n",
    "            res_df.set_value(i, 'median', 0)\n",
    "            res_df.set_value(i, '75th', 0)\n",
    "            res_df.set_value(i, 'max', 0)\n",
    "            res_df.set_value(i, 'mean', 0)\n",
    "            res_df.set_value(i, 'avg_size', 0)\n",
    "        \n",
    "        i += 1\n",
    "        \n",
    "        \n",
    "        \n",
    "        \n",
    "        \n",
    "        "
   ]
  },
  {
   "cell_type": "code",
   "execution_count": 94,
   "metadata": {
    "collapsed": false
   },
   "outputs": [],
   "source": [
    "res_df = res_df.sort_values(by='State')"
   ]
  },
  {
   "cell_type": "code",
   "execution_count": 95,
   "metadata": {
    "collapsed": true
   },
   "outputs": [],
   "source": [
    "res_df.to_csv('data/poll/polls_aggregated.csv')"
   ]
  },
  {
   "cell_type": "code",
   "execution_count": null,
   "metadata": {
    "collapsed": true
   },
   "outputs": [],
   "source": []
  }
 ],
 "metadata": {
  "kernelspec": {
   "display_name": "Python 3",
   "language": "python",
   "name": "python3"
  },
  "language_info": {
   "codemirror_mode": {
    "name": "ipython",
    "version": 3
   },
   "file_extension": ".py",
   "mimetype": "text/x-python",
   "name": "python",
   "nbconvert_exporter": "python",
   "pygments_lexer": "ipython3",
   "version": "3.6.0"
  }
 },
 "nbformat": 4,
 "nbformat_minor": 0
}
