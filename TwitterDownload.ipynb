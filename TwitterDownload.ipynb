{
 "cells": [
  {
   "cell_type": "code",
   "execution_count": 3,
   "metadata": {
    "collapsed": true
   },
   "outputs": [],
   "source": [
    "import tweepy"
   ]
  },
  {
   "cell_type": "code",
   "execution_count": 36,
   "metadata": {
    "collapsed": false
   },
   "outputs": [],
   "source": [
    "f = open('secret.txt', 'r')\n",
    "mess = f.read().split('\\n')\n",
    "consumer_key = mess[0]\n",
    "consumer_secret = mess[1]\n",
    "access_token = mess[2]\n",
    "access_token_secret = mess[3]\n",
    "f.close()"
   ]
  },
  {
   "cell_type": "code",
   "execution_count": 66,
   "metadata": {
    "collapsed": true
   },
   "outputs": [],
   "source": [
    "auth = tweepy.OAuthHandler(consumer_key, consumer_secret)\n",
    "auth.set_access_token(access_token, access_token_secret)\n",
    "api = tweepy.API(auth, wait_on_rate_limit=True, wait_on_rate_limit_notify=True)"
   ]
  },
  {
   "cell_type": "code",
   "execution_count": 132,
   "metadata": {
    "collapsed": false
   },
   "outputs": [],
   "source": [
    "\n",
    "tags = ['Trump']\n",
    "lat = 31.054487\n",
    "lon = -97.563461\n",
    "rad = 834.0635467\n",
    "since = '2015-12-21'\n",
    "until = '2015-12-22'\n",
    "\n",
    "def create_query_string(tags, since, until):\n",
    "    st = \" or \".join(tags)\n",
    "    st += (' since:%s' % since)\n",
    "    st += (' until:%s' % until)\n",
    "    return st"
   ]
  },
  {
   "cell_type": "code",
   "execution_count": 133,
   "metadata": {
    "collapsed": false
   },
   "outputs": [],
   "source": [
    "q = create_query_string(tags, since, until)"
   ]
  },
  {
   "cell_type": "code",
   "execution_count": 134,
   "metadata": {
    "collapsed": false
   },
   "outputs": [],
   "source": [
    "def create_geo(lat, lon, rad):\n",
    "    return '%.6f,%.6f,%dkm' % (lat, lon, rad)"
   ]
  },
  {
   "cell_type": "code",
   "execution_count": 135,
   "metadata": {
    "collapsed": false
   },
   "outputs": [],
   "source": [
    "geo = create_geo(lat, lon, rad)"
   ]
  },
  {
   "cell_type": "code",
   "execution_count": 136,
   "metadata": {
    "collapsed": true
   },
   "outputs": [],
   "source": [
    "res = api.search(q=q, geocode=geo)"
   ]
  },
  {
   "cell_type": "code",
   "execution_count": 137,
   "metadata": {
    "collapsed": false
   },
   "outputs": [
    {
     "data": {
      "text/plain": [
       "'Trump since:2015-12-21 until:2015-12-22'"
      ]
     },
     "execution_count": 137,
     "metadata": {},
     "output_type": "execute_result"
    }
   ],
   "source": [
    "q"
   ]
  },
  {
   "cell_type": "code",
   "execution_count": 138,
   "metadata": {
    "collapsed": false
   },
   "outputs": [
    {
     "data": {
      "text/plain": [
       "'31.054487,-97.563461,834km'"
      ]
     },
     "execution_count": 138,
     "metadata": {},
     "output_type": "execute_result"
    }
   ],
   "source": [
    "geo"
   ]
  },
  {
   "cell_type": "code",
   "execution_count": 141,
   "metadata": {
    "collapsed": true
   },
   "outputs": [],
   "source": [
    "query_string = q + ' geocode:' + geo"
   ]
  },
  {
   "cell_type": "code",
   "execution_count": 142,
   "metadata": {
    "collapsed": false
   },
   "outputs": [
    {
     "data": {
      "text/plain": [
       "'Trump since:2015-12-21 until:2015-12-22 geocode:31.054487,-97.563461,834km'"
      ]
     },
     "execution_count": 142,
     "metadata": {},
     "output_type": "execute_result"
    }
   ],
   "source": [
    "query_string"
   ]
  },
  {
   "cell_type": "code",
   "execution_count": 143,
   "metadata": {
    "collapsed": true
   },
   "outputs": [],
   "source": [
    "import csv"
   ]
  },
  {
   "cell_type": "code",
   "execution_count": 149,
   "metadata": {
    "collapsed": false
   },
   "outputs": [
    {
     "name": "stdout",
     "output_type": "stream",
     "text": [
      "State,latitude,longitude,Radius\n",
      "Alabama,32.84166667,-86.63333333,146.9965617\n",
      "Alaska,64.73166667,-152.47,523.7151918\n",
      "Arizona,34.30833333,-111.7933333,216.7670419\n",
      "Arkansas,34.815,-92.30166667,148.0565048\n",
      "California,36.965,-120.0816667,259.7622832\n",
      "Colorado,38.99833333,-105.6416667,207.143264\n",
      "Connecticut,41.595,-72.70666667,47.80154305\n",
      "Delaware,38.98,-75.51166667,32.02987298\n",
      "District of Columbia,39.16666667,-76.85,5.307581834\n",
      "Florida,28.13333333,-81.63166667,164.6389889\n",
      "Georgia,32.71333333,-83.495,156.5105022\n",
      "Hawaii,20.95166667,-157.2766667,67.12789214\n",
      "Idaho,44.25666667,-114.9566667,185.6016523\n",
      "Illinois,40.01333333,-89.30666667,154.5071056\n",
      "Indiana,39.895,-86.26666667,122.5253001\n",
      "Iowa,41.96166667,-93.385,152.3029755\n",
      "Kansas,38.49833333,-98.69833333,184.1627497\n",
      "Kentucky,37.35833333,-85.50666667,129.06014\n",
      "Louisiana,30.96833333,-92.53666667,146.9380836\n",
      "Maine,45.25333333,-69.23333333,120.763591\n",
      "Maryland,39.44166667,-77.37166667,71.51089061\n",
      "Massachusetts,42.34,-72.03166667,65.95952944\n",
      "Michigan,45.06166667,-84.93833333,199.6653306\n",
      "Minnesota,46.025,-95.32666667,189.3034718\n",
      "Mississippi,32.815,-89.71666667,141.2942948\n",
      "Missouri,38.495,-92.63166667,169.5105702\n",
      "Montana,47.03166667,-109.6383333,246.1932902\n",
      "Nebraska,41.525,-99.86166667,178.5595412\n",
      "Nevada,39.505,-116.9316667,213.4919029\n",
      "New Hampshire,43.64166667,-71.57166667,62.07880308\n",
      "New Jersey,40.07,-74.55833333,59.96223244\n",
      "New Mexico,34.50166667,-106.1116667,223.8762989\n",
      "New York,42.965,-76.01666667,149.9603814\n",
      "North Carolina,35.60333333,-79.455,148.9455158\n",
      "North Dakota,47.41166667,-100.5683333,170.7118722\n",
      "Ohio,40.36166667,-82.74166667,135.9322279\n",
      "Oklahoma,35.53666667,-97.66,169.7437287\n",
      "Oregon,43.86833333,-120.9783333,201.3765635\n",
      "Pennsylvania,40.89666667,-77.74666667,137.782443\n",
      "Rhode Island,41.67166667,-71.57666667,25.23447894\n",
      "South Carolina,33.83,-80.87333333,114.8877578\n",
      "South Dakota,44.40166667,-100.4783333,178.2914962\n",
      "Tennessee,35.795,-86.62166667,131.8037917\n",
      "Texas,31.24333333,-99.45833333,332.7432133\n",
      "Utah,39.38666667,-111.685,187.0703269\n",
      "Vermont,43.92666667,-72.67166667,62.95961414\n",
      "Virginia,37.48833333,-78.56333333,132.786666\n",
      "Washington,47.33333333,-120.2683333,171.4342759\n",
      "West Virginia,38.59833333,-80.70333333,99.93961981\n",
      "Wisconsin,44.43333333,-89.76333333,164.3114383\n",
      "Wyoming,42.97166667,-107.6716667,200.7972049\n"
     ]
    }
   ],
   "source": [
    "with open('data/raw_calc_lat_lon.csv', 'r') as csvfile:\n",
    "    tab = csv.reader(csvfile, delimiter=',')\n",
    "    for row in tab:\n",
    "        print(','.join(row))"
   ]
  },
  {
   "cell_type": "code",
   "execution_count": 150,
   "metadata": {
    "collapsed": false
   },
   "outputs": [],
   "source": [
    "bernie_keywords = ['Bernie', 'Sanders', 'BernieSanders', 'Feel the Bern', 'Bern', 'feelthebern']\n",
    "rubio_keywords = ['Marco', 'Rubio', 'marcorubio', '\"A New American Century\"']\n",
    "cruz_keywords = ['Ted', 'Cruz', 'tedcruz', 'CruzCrew', '\"Together, we will win\"']\n",
    "clinton_keywords = ['Hilary', 'Clinton', 'HilaryClinton', '\"I\\'m with her\"', '\"Stronger Together', 'imwithher']\n",
    "trump_keywords = ['Donald', 'Trump', 'DonaldTrump', 'NeverTrump', '\"Make America Great Again\"', 'maga']"
   ]
  },
  {
   "cell_type": "code",
   "execution_count": null,
   "metadata": {
    "collapsed": true
   },
   "outputs": [],
   "source": [
    "def query_strings(row, since, until):\n",
    "    for s in [bernie_keywords, rubio_keywords, cruz_keywords, clinton_keywords, trump_keywords]:\n",
    "        create_query_string(s, )"
   ]
  }
 ],
 "metadata": {
  "kernelspec": {
   "display_name": "Python 3",
   "language": "python",
   "name": "python3"
  },
  "language_info": {
   "codemirror_mode": {
    "name": "ipython",
    "version": 3
   },
   "file_extension": ".py",
   "mimetype": "text/x-python",
   "name": "python",
   "nbconvert_exporter": "python",
   "pygments_lexer": "ipython3",
   "version": "3.6.0"
  }
 },
 "nbformat": 4,
 "nbformat_minor": 0
}
